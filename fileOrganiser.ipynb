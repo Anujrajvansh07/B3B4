{
 "cells": [
  {
   "cell_type": "code",
   "execution_count": 8,
   "id": "73ca358c-be47-41c5-9412-a30b5e180f8f",
   "metadata": {},
   "outputs": [],
   "source": [
    "import os\n",
    "\n",
    "address = r\"C:\\Users\\prateek.gautam\\Downloads\\Organizer\\Organizer\"\n",
    "address = \"/mnt/c/Users/prateek.gautam/Downloads/Organizer/Organizer\"\n",
    "os.chdir(address)\n",
    "\n",
    "list_of_files = os.listdir()\n",
    "\n",
    "list_of_files\n",
    "\n",
    "dirs_to_create = \"Video,Audio,Images,Docs,Misc\".split(\",\")\n",
    "dirs_to_create\n",
    "# try except\n",
    "\n",
    "\n",
    "for dir1 in dirs_to_create:\n",
    "    os.mkdir(dir1)"
   ]
  },
  {
   "cell_type": "code",
   "execution_count": 9,
   "id": "b077f8ae-f41c-4ffb-839a-cabc2eea0981",
   "metadata": {},
   "outputs": [
    {
     "data": {
      "text/plain": [
       "['a1.mp3',\n",
       " 'a2.oog',\n",
       " 'd1.docx',\n",
       " 'd2.png',\n",
       " 'd3.pdf',\n",
       " 'd4.txt',\n",
       " 'image.png',\n",
       " 'image1.jpg',\n",
       " 'image2.jpg',\n",
       " 'image2.png',\n",
       " 'misc1',\n",
       " 'misc2',\n",
       " 'misc3',\n",
       " 'v1.mp4',\n",
       " 'v2.mkv']"
      ]
     },
     "execution_count": 9,
     "metadata": {},
     "output_type": "execute_result"
    }
   ],
   "source": [
    "list_of_files"
   ]
  },
  {
   "cell_type": "code",
   "execution_count": 13,
   "id": "a52e773c-862f-4dd2-b90e-6b30ef529d3a",
   "metadata": {},
   "outputs": [],
   "source": [
    "for f in list_of_files:\n",
    "    ext = f.split(\".\")[-1]\n",
    "    if ext == \"jpg\" or ext == \"png\":\n",
    "        # cmd = f\"move ./{f} ./Images/{f}\"\n",
    "        cmd = f\"mv ./{f} ./Images/{f}\"\n",
    "        os.system(cmd)"
   ]
  },
  {
   "cell_type": "code",
   "execution_count": null,
   "id": "7e0f452c-118e-44cb-9f31-dabeb088aecc",
   "metadata": {},
   "outputs": [],
   "source": []
  }
 ],
 "metadata": {
  "kernelspec": {
   "display_name": "Python 3 (ipykernel)",
   "language": "python",
   "name": "python3"
  },
  "language_info": {
   "codemirror_mode": {
    "name": "ipython",
    "version": 3
   },
   "file_extension": ".py",
   "mimetype": "text/x-python",
   "name": "python",
   "nbconvert_exporter": "python",
   "pygments_lexer": "ipython3",
   "version": "3.11.8"
  }
 },
 "nbformat": 4,
 "nbformat_minor": 5
}
