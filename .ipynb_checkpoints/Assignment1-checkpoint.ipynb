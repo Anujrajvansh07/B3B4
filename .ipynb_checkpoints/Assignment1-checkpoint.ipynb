{
 "cells": [
  {
   "cell_type": "markdown",
   "id": "def429b9-2def-4f23-bc7f-5a9b716c4fab",
   "metadata": {},
   "source": [
    "# Assignment 1"
   ]
  },
  {
   "cell_type": "markdown",
   "id": "cf7acd13-6b15-400a-b7ff-1026cb953ee6",
   "metadata": {},
   "source": [
    "### Question 1: asfdasdf\n",
    "\n",
    "\n",
    "![label](./Assignment1Q1.png)\n",
    "\n",
    "*asdf*\n",
    "**asdfasdf**\n",
    "***asdfasdf***\n"
   ]
  },
  {
   "cell_type": "code",
   "execution_count": 3,
   "id": "d90d1756-2031-4d8f-b49e-7855f40130ed",
   "metadata": {},
   "outputs": [
    {
     "name": "stdout",
     "output_type": "stream",
     "text": [
      "100\n"
     ]
    }
   ],
   "source": [
    "def calculate_force(mass,acceleration):\n",
    "    \"\"\"\n",
    "    It takes two mass and acceleration variables and returns calculate force\n",
    "    \"\"\"\n",
    "\n",
    "    \n",
    "    force = mass * acceleration\n",
    "    print(force)\n",
    "    return force\n",
    "\n",
    "F = calculate_force(10,10)\n",
    "\n",
    "\n"
   ]
  },
  {
   "cell_type": "code",
   "execution_count": 4,
   "id": "6bae79c8-0c19-49b3-b35a-2965a4bdc81c",
   "metadata": {},
   "outputs": [
    {
     "name": "stdout",
     "output_type": "stream",
     "text": [
      "Help on function calculate_force in module __main__:\n",
      "\n",
      "calculate_force(mass, acceleration)\n",
      "    It takes two mass and acceleration variables and return  calculate force\n",
      "\n"
     ]
    }
   ],
   "source": [
    "help(calculate_force)"
   ]
  },
  {
   "cell_type": "code",
   "execution_count": null,
   "id": "12576f9d-0277-4537-9f85-825084f00bed",
   "metadata": {},
   "outputs": [],
   "source": []
  }
 ],
 "metadata": {
  "kernelspec": {
   "display_name": "Python 3 (ipykernel)",
   "language": "python",
   "name": "python3"
  },
  "language_info": {
   "codemirror_mode": {
    "name": "ipython",
    "version": 3
   },
   "file_extension": ".py",
   "mimetype": "text/x-python",
   "name": "python",
   "nbconvert_exporter": "python",
   "pygments_lexer": "ipython3",
   "version": "3.11.8"
  }
 },
 "nbformat": 4,
 "nbformat_minor": 5
}
