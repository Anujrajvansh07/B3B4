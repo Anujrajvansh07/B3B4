{
 "cells": [
  {
   "cell_type": "code",
   "execution_count": 7,
   "id": "f963056e-89fb-41c2-8099-153dbb7eb76f",
   "metadata": {},
   "outputs": [
    {
     "name": "stdin",
     "output_type": "stream",
     "text": [
      "Enter location C:\\GITHUB\\PythonProgrammingUPES\\B3B4\n"
     ]
    }
   ],
   "source": [
    "import os\n",
    "\n",
    "# help(os)\n",
    "\n",
    "address = input(\"Enter location\")\n",
    "# address = \"C:\\GITHUB\\PythonProgrammingUPES\\B3B4\"  ## for windows users\n",
    "# address = \"/mnt/c/GITHUB/PythonProgrammingUPES/B3B4\"  ## for linux and wsl users"
   ]
  },
  {
   "cell_type": "code",
   "execution_count": 4,
   "id": "0b48a1a6-2977-49c3-b9d3-502d2a4c1145",
   "metadata": {},
   "outputs": [
    {
     "data": {
      "text/plain": [
       "['.git',\n",
       " '.gitignore',\n",
       " '.ipynb_checkpoints',\n",
       " '022 UNIT II List_copy Part1.1.ipynb',\n",
       " 'Assignment1.ipynb',\n",
       " 'Assignment1Q1.png',\n",
       " 'FIrst Nb.ipynb',\n",
       " 'firstdatatypes.py',\n",
       " 'module1.py',\n",
       " 'push.sh',\n",
       " 'README.md',\n",
       " 'Second.ipynb',\n",
       " 'testfile.py',\n",
       " 'testfile2.py',\n",
       " 'Unit1 loop break and continue.ipynb',\n",
       " 'Unit2 Part2.ipynb',\n",
       " 'Unit2 scope .py',\n",
       " 'UnitIPartII.ipynb',\n",
       " 'use of OS module.ipynb',\n",
       " '__pycache__']"
      ]
     },
     "execution_count": 4,
     "metadata": {},
     "output_type": "execute_result"
    }
   ],
   "source": [
    "os.chdir(address) # change working dir\n",
    "\n",
    "list_of_files = os.listdir() # list files in dir\n",
    "list_of_files"
   ]
  },
  {
   "cell_type": "code",
   "execution_count": 5,
   "id": "21aa5379-f7b0-4416-8a7b-39ee87e33e1e",
   "metadata": {},
   "outputs": [
    {
     "name": "stdout",
     "output_type": "stream",
     "text": [
      ".git\n",
      ".gitignore\n",
      ".ipynb_checkpoints\n",
      "022 UNIT II List_copy Part1.1.ipynb\n",
      "Assignment1.ipynb\n",
      "Assignment1Q1.png\n",
      "FIrst Nb.ipynb\n",
      "firstdatatypes.py\n",
      "module1.py\n",
      "push.sh\n",
      "README.md\n",
      "Second.ipynb\n",
      "testfile.py\n",
      "testfile2.py\n",
      "Unit1 loop break and continue.ipynb\n",
      "Unit2 Part2.ipynb\n",
      "Unit2 scope .py\n",
      "UnitIPartII.ipynb\n",
      "use of OS module.ipynb\n",
      "__pycache__\n"
     ]
    }
   ],
   "source": [
    "for f in list_of_files:\n",
    "    print(f)"
   ]
  },
  {
   "cell_type": "markdown",
   "id": "34fd16e7-3838-4c4c-a565-2339d6624be8",
   "metadata": {},
   "source": [
    "## Write a function that takes dir address from user and organize files on that folder in to following categories as given below\n",
    "\n",
    "| Folder | Extesion|\n",
    "|---|---|\n",
    "|Videos| mpg,mkv|\n",
    "|Images|jpg,png|\n",
    "|Audio| mp3,oog|\n",
    "|Docs|docx,txt,pdf|\n",
    "|Mics| others|\n",
    "\n",
    "```python\n",
    "import os\n",
    "\n",
    "\n",
    "# to create directory\n",
    "dirName = \"Images\"\n",
    "make_dir_cmd = f\"md {dirName}\"\n",
    "os.system(make_dir_cmd)\n",
    "\n",
    "os.mkdir(\"dirName\")\n",
    "\n",
    "# to move file\n",
    "\n",
    "relative_source_file_path = \".\\demo.txt\"\n",
    "dirName = \"Images\"\n",
    "relative_destination_file_path = f\".\\{dirName}\\demo.txt\"\n",
    "cmd_to_move_file = f\"move {relative_source_file_path} {relative_destination_file_path}\"\n",
    "\n",
    "```\n"
   ]
  },
  {
   "cell_type": "code",
   "execution_count": null,
   "id": "dea4790b-42a1-4d8a-99ce-b5cf00a83909",
   "metadata": {},
   "outputs": [],
   "source": []
  }
 ],
 "metadata": {
  "kernelspec": {
   "display_name": "Python 3 (ipykernel)",
   "language": "python",
   "name": "python3"
  },
  "language_info": {
   "codemirror_mode": {
    "name": "ipython",
    "version": 3
   },
   "file_extension": ".py",
   "mimetype": "text/x-python",
   "name": "python",
   "nbconvert_exporter": "python",
   "pygments_lexer": "ipython3",
   "version": "3.11.8"
  }
 },
 "nbformat": 4,
 "nbformat_minor": 5
}
